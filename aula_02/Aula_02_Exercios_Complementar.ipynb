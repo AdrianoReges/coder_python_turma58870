{
 "cells": [
  {
   "attachments": {},
   "cell_type": "markdown",
   "metadata": {},
   "source": [
    "# Desafio Complementar"
   ]
  },
  {
   "cell_type": "markdown",
   "metadata": {},
   "source": [
    "## Exercício 1"
   ]
  },
  {
   "cell_type": "code",
   "execution_count": 3,
   "metadata": {},
   "outputs": [
    {
     "name": "stdout",
     "output_type": "stream",
     "text": [
      "Seu IMC é: 25.10\n"
     ]
    }
   ],
   "source": [
    "# Pergunta ao usuário o peso em kg e altura em metros\n",
    "peso = float(input(\"Qual é o seu peso em kg? \"))\n",
    "altura = float(input(\"Qual é a sua altura em metros? \"))\n",
    "\n",
    "# Calcula o IMC (Índice de Massa Corporal)\n",
    "imc = peso / (altura ** 2)\n",
    "\n",
    "# Imprime o resultado\n",
    "print(\"Seu IMC é: {}\".format(round(imc, 2)))\n",
    "print(f\"Seu IMC é: {round(imc, 2)}\")"
   ]
  },
  {
   "cell_type": "markdown",
   "metadata": {},
   "source": [
    "## Exercício 2"
   ]
  },
  {
   "cell_type": "code",
   "execution_count": 4,
   "metadata": {},
   "outputs": [
    {
     "name": "stdout",
     "output_type": "stream",
     "text": [
      "Sua lista: [1.0, 2.0, 3.0, 4.0, 5.0]\n"
     ]
    }
   ],
   "source": [
    "lista = []\n",
    "lista.append(float(input(\"num 1:\")))\n",
    "lista.append(float(input(\"num 2:\")))\n",
    "lista.append(float(input(\"num 3:\")))\n",
    "lista.append(float(input(\"num 4:\")))\n",
    "lista.append(float(input(\"num 5:\")))\n",
    "\n",
    "print(\"Sua lista:\", lista)"
   ]
  },
  {
   "cell_type": "markdown",
   "metadata": {},
   "source": [
    "## Exercício 3"
   ]
  },
  {
   "cell_type": "code",
   "execution_count": 5,
   "metadata": {},
   "outputs": [
    {
     "name": "stdout",
     "output_type": "stream",
     "text": [
      "Lista de nomes: ['Joao', ' Maria', ' Jose']\n"
     ]
    }
   ],
   "source": [
    "nomes = input(\"Digite uma lista de nomes separados por vírgula: \")\n",
    "\n",
    "lista_nomes = nomes.split(\",\")\n",
    "\n",
    "print(\"Lista de nomes:\", lista_nomes)"
   ]
  },
  {
   "cell_type": "code",
   "execution_count": null,
   "metadata": {},
   "outputs": [],
   "source": [
    "'Joao, Maria, Jose'"
   ]
  }
 ],
 "metadata": {
  "kernelspec": {
   "display_name": "Python 3",
   "language": "python",
   "name": "python3"
  },
  "language_info": {
   "codemirror_mode": {
    "name": "ipython",
    "version": 3
   },
   "file_extension": ".py",
   "mimetype": "text/x-python",
   "name": "python",
   "nbconvert_exporter": "python",
   "pygments_lexer": "ipython3",
   "version": "3.10.6"
  },
  "orig_nbformat": 4,
  "vscode": {
   "interpreter": {
    "hash": "9f8688d2bc69c748babb560adc9158621fb8aef49546882c3e4c6326402dd0cc"
   }
  }
 },
 "nbformat": 4,
 "nbformat_minor": 2
}
