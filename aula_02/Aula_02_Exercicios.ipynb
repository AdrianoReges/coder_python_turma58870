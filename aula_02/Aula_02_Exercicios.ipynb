{
 "cells": [
  {
   "attachments": {},
   "cell_type": "markdown",
   "metadata": {},
   "source": [
    "# Aula 02 Fundamentos de programação I\n",
    "# Em Sala\n",
    "## Exercício 1"
   ]
  },
  {
   "cell_type": "code",
   "execution_count": 4,
   "metadata": {},
   "outputs": [
    {
     "name": "stdout",
     "output_type": "stream",
     "text": [
      "Seu novo saldo é 900.6.\n"
     ]
    }
   ],
   "source": [
    "saldo = 950.60\n",
    "saque = float(input(\"Quanto dinheiro você deseja sacar? \"))\n",
    "\n",
    "novo_saldo = saldo - saque\n",
    "print(f\"Seu novo saldo é {novo_saldo}.\")"
   ]
  },
  {
   "cell_type": "markdown",
   "metadata": {},
   "source": [
    "## Exercício 2"
   ]
  },
  {
   "cell_type": "code",
   "execution_count": 14,
   "metadata": {},
   "outputs": [
    {
     "data": {
      "text/plain": [
       "['abacaxi', 'maçã', 'banana', 'laranja', 'manga']"
      ]
     },
     "execution_count": 14,
     "metadata": {},
     "output_type": "execute_result"
    }
   ],
   "source": [
    "frutas = [\"banana\", \"maçã\", \"abacaxi\", \"laranja\", \"manga\"]\n",
    "\n",
    "fruta = input(\"Digite o nome de uma fruta: \")\n",
    "\n",
    "frutas.append(fruta)\n",
    "\n",
    "frutas = list(set(frutas))\n",
    "frutas"
   ]
  },
  {
   "cell_type": "markdown",
   "metadata": {},
   "source": [
    "## Exercício 3"
   ]
  },
  {
   "cell_type": "code",
   "execution_count": 1,
   "metadata": {},
   "outputs": [
    {
     "name": "stdout",
     "output_type": "stream",
     "text": [
      "Frase com vogais substituídas: \n"
     ]
    }
   ],
   "source": [
    "frase = input(\"Digite uma frase: \")\n",
    "\n",
    "substituida = frase.replace('a', '*').replace('e', '*').replace('i', '*').replace('o', '*').replace('u', '*')\n",
    "\n",
    "print(\"Frase com vogais substituídas:\", substituida)"
   ]
  },
  {
   "cell_type": "code",
   "execution_count": null,
   "metadata": {},
   "outputs": [],
   "source": []
  }
 ],
 "metadata": {
  "kernelspec": {
   "display_name": "Python 3",
   "language": "python",
   "name": "python3"
  },
  "language_info": {
   "codemirror_mode": {
    "name": "ipython",
    "version": 3
   },
   "file_extension": ".py",
   "mimetype": "text/x-python",
   "name": "python",
   "nbconvert_exporter": "python",
   "pygments_lexer": "ipython3",
   "version": "3.10.6"
  },
  "orig_nbformat": 4,
  "vscode": {
   "interpreter": {
    "hash": "9f8688d2bc69c748babb560adc9158621fb8aef49546882c3e4c6326402dd0cc"
   }
  }
 },
 "nbformat": 4,
 "nbformat_minor": 2
}
